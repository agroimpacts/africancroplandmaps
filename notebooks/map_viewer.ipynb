{
 "cells": [
  {
   "cell_type": "markdown",
   "id": "6715083f-8be6-403e-85ee-1cd71f994880",
   "metadata": {},
   "source": [
    "# Accessing Open Cropland and landcover Maps\n",
    "\n",
    "The following provides a simple example for how to access and view the cropland and landcover maps. \n",
    "\n",
    "To access these data you need to have an AWS account. "
   ]
  },
  {
   "cell_type": "code",
   "execution_count": 1,
   "id": "aa6a3442-a343-4cfb-adbb-303e675c1735",
   "metadata": {},
   "outputs": [],
   "source": [
    "import boto3\n",
    "import geopandas as gpd\n",
    "import folium\n",
    "from shapely.geometry import Polygon\n",
    "import json\n",
    "from IPython.display import display"
   ]
  },
  {
   "cell_type": "markdown",
   "id": "33f29a64-9e9b-4d2e-9511-cbc93160b1cf",
   "metadata": {},
   "source": [
    "## Datasets"
   ]
  },
  {
   "cell_type": "markdown",
   "id": "7fe903d4-e9fc-4279-916a-122f1509dd32",
   "metadata": {},
   "source": [
    "Start by getting a list of datasets in the bucket. "
   ]
  },
  {
   "cell_type": "code",
   "execution_count": 12,
   "id": "835e87f0-c4e6-4036-b828-e1b9467d7ba9",
   "metadata": {},
   "outputs": [
    {
     "data": {
      "text/plain": [
       "['croplands/geoparquet/congo_2022_v1.parquet',\n",
       " 'croplands/pmtiles/congo_2022_v1.pmtiles',\n",
       " 'croplands/pmtiles/zambia_2022_v1.pmtiles',\n",
       " 'landcover/tanzania_2019.tif']"
      ]
     },
     "execution_count": 12,
     "metadata": {},
     "output_type": "execute_result"
    }
   ],
   "source": [
    "session = boto3.Session()\n",
    "s3_client = session.client('s3')\n",
    "bucket_name = 'mappingafrica'\n",
    "response = s3_client.list_objects_v2(Bucket=bucket_name)\n",
    "\n",
    "objects = [obj[\"Key\"] for obj in response[\"Contents\"]]\n",
    "objects"
   ]
  },
  {
   "cell_type": "markdown",
   "id": "130b1084-edb5-4fb8-be40-54af358cdb26",
   "metadata": {},
   "source": [
    "### Croplands\n",
    "\n",
    "The croplands prefix contains field boundary maps for several African countries, stored as pmtiles (for a web-mapping application) and geoparquet (for analytics). We'l "
   ]
  },
  {
   "cell_type": "markdown",
   "id": "07a06fb0",
   "metadata": {},
   "source": [
    "Read the GeoParquet data into a GeoDataFrame"
   ]
  },
  {
   "cell_type": "code",
   "execution_count": 2,
   "id": "d15176b4-b6d1-436e-a5a5-53f25cabf0a1",
   "metadata": {},
   "outputs": [
    {
     "data": {
      "text/html": [
       "<div>\n",
       "<style scoped>\n",
       "    .dataframe tbody tr th:only-of-type {\n",
       "        vertical-align: middle;\n",
       "    }\n",
       "\n",
       "    .dataframe tbody tr th {\n",
       "        vertical-align: top;\n",
       "    }\n",
       "\n",
       "    .dataframe thead th {\n",
       "        text-align: right;\n",
       "    }\n",
       "</style>\n",
       "<table border=\"1\" class=\"dataframe\">\n",
       "  <thead>\n",
       "    <tr style=\"text-align: right;\">\n",
       "      <th></th>\n",
       "      <th>id</th>\n",
       "      <th>tile</th>\n",
       "      <th>aoi</th>\n",
       "      <th>grp</th>\n",
       "      <th>geometry</th>\n",
       "    </tr>\n",
       "  </thead>\n",
       "  <tbody>\n",
       "    <tr>\n",
       "      <th>0</th>\n",
       "      <td>1</td>\n",
       "      <td>664360</td>\n",
       "      <td>1.0</td>\n",
       "      <td>1.0</td>\n",
       "      <td>MULTIPOLYGON (((17.45164 3.65598, 17.45174 3.6...</td>\n",
       "    </tr>\n",
       "    <tr>\n",
       "      <th>1</th>\n",
       "      <td>2</td>\n",
       "      <td>664360</td>\n",
       "      <td>1.0</td>\n",
       "      <td>1.0</td>\n",
       "      <td>MULTIPOLYGON (((17.44139 3.65297, 17.44139 3.6...</td>\n",
       "    </tr>\n",
       "    <tr>\n",
       "      <th>2</th>\n",
       "      <td>3</td>\n",
       "      <td>664360</td>\n",
       "      <td>1.0</td>\n",
       "      <td>1.0</td>\n",
       "      <td>MULTIPOLYGON (((17.44124 3.65281, 17.44132 3.6...</td>\n",
       "    </tr>\n",
       "    <tr>\n",
       "      <th>3</th>\n",
       "      <td>4</td>\n",
       "      <td>664360</td>\n",
       "      <td>1.0</td>\n",
       "      <td>1.0</td>\n",
       "      <td>MULTIPOLYGON (((17.44477 3.65036, 17.44487 3.6...</td>\n",
       "    </tr>\n",
       "    <tr>\n",
       "      <th>4</th>\n",
       "      <td>5</td>\n",
       "      <td>664360</td>\n",
       "      <td>1.0</td>\n",
       "      <td>1.0</td>\n",
       "      <td>MULTIPOLYGON (((17.44759 3.64945, 17.44757 3.6...</td>\n",
       "    </tr>\n",
       "  </tbody>\n",
       "</table>\n",
       "</div>"
      ],
      "text/plain": [
       "   id    tile  aoi  grp                                           geometry\n",
       "0   1  664360  1.0  1.0  MULTIPOLYGON (((17.45164 3.65598, 17.45174 3.6...\n",
       "1   2  664360  1.0  1.0  MULTIPOLYGON (((17.44139 3.65297, 17.44139 3.6...\n",
       "2   3  664360  1.0  1.0  MULTIPOLYGON (((17.44124 3.65281, 17.44132 3.6...\n",
       "3   4  664360  1.0  1.0  MULTIPOLYGON (((17.44477 3.65036, 17.44487 3.6...\n",
       "4   5  664360  1.0  1.0  MULTIPOLYGON (((17.44759 3.64945, 17.44757 3.6..."
      ]
     },
     "execution_count": 2,
     "metadata": {},
     "output_type": "execute_result"
    }
   ],
   "source": [
    "s3_url = 's3://mappingafrica/croplands/geoparquet/congo_2022_v1.parquet'\n",
    "\n",
    "gdf = gpd.read_parquet(s3_url)\n",
    "gdf = gdf.dropna(subset=['geometry'])\n",
    "gdf.head()"
   ]
  },
  {
   "cell_type": "markdown",
   "id": "d2a35f28",
   "metadata": {},
   "source": [
    "Display the cropland map of 2022 for Congo"
   ]
  },
  {
   "cell_type": "code",
   "execution_count": null,
   "id": "e84fb46c",
   "metadata": {},
   "outputs": [],
   "source": [
    "if gdf.crs is None:\n",
    "    gdf.set_crs(epsg=4326, inplace=True) \n",
    "bounds = gdf.total_bounds\n",
    "\n",
    "center_lat = (bounds[1] + bounds[3]) / 2\n",
    "center_lon = (bounds[0] + bounds[2]) / 2\n",
    "\n",
    "m = folium.Map(location=[center_lat, center_lon], zoom_start=6, \n",
    "               tiles='cartodbpositron')\n",
    "\n",
    "folium.GeoJson(gdf).add_to(m)\n",
    "\n",
    "m.save('interactive_map.html')\n",
    "m"
   ]
  },
  {
   "cell_type": "code",
   "execution_count": null,
   "id": "2706a233-d46c-4a09-96cf-0f834e83cd2c",
   "metadata": {},
   "outputs": [],
   "source": []
  }
 ],
 "metadata": {
  "kernelspec": {
   "display_name": "Python 3 (ipykernel)",
   "language": "python",
   "name": "python3"
  },
  "language_info": {
   "codemirror_mode": {
    "name": "ipython",
    "version": 3
   },
   "file_extension": ".py",
   "mimetype": "text/x-python",
   "name": "python",
   "nbconvert_exporter": "python",
   "pygments_lexer": "ipython3",
   "version": "3.12.3"
  },
  "toc-autonumbering": false,
  "toc-showmarkdowntxt": false
 },
 "nbformat": 4,
 "nbformat_minor": 5
}
