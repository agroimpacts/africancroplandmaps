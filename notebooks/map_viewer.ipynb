{
 "cells": [
  {
   "cell_type": "markdown",
   "id": "6715083f-8be6-403e-85ee-1cd71f994880",
   "metadata": {},
   "source": [
    "# Accessing Open Cropland and landcover Maps\n",
    "\n",
    "The following provides a simple example for how to access and view the cropland and landcover maps. \n",
    "\n",
    "To access these data you need to have an AWS account. "
   ]
  },
  {
   "cell_type": "code",
   "execution_count": null,
   "id": "aa6a3442-a343-4cfb-adbb-303e675c1735",
   "metadata": {},
   "outputs": [],
   "source": [
    "import boto3\n",
    "import geopandas as gpd\n",
    "import folium\n",
    "from shapely.geometry import Polygon\n",
    "import json\n",
    "from IPython.display import display"
   ]
  },
  {
   "cell_type": "markdown",
   "id": "33f29a64-9e9b-4d2e-9511-cbc93160b1cf",
   "metadata": {},
   "source": [
    "## Datasets"
   ]
  },
  {
   "cell_type": "markdown",
   "id": "7fe903d4-e9fc-4279-916a-122f1509dd32",
   "metadata": {},
   "source": [
    "Start by getting a list of datasets in the bucket. "
   ]
  },
  {
   "cell_type": "code",
   "execution_count": null,
   "id": "835e87f0-c4e6-4036-b828-e1b9467d7ba9",
   "metadata": {},
   "outputs": [],
   "source": [
    "session = boto3.Session()\n",
    "s3_client = session.client('s3')\n",
    "bucket_name = 'mappingafrica'\n",
    "response = s3_client.list_objects_v2(Bucket=bucket_name)\n",
    "\n",
    "objects = [obj[\"Key\"] for obj in response[\"Contents\"]]\n",
    "objects"
   ]
  },
  {
   "cell_type": "markdown",
   "id": "130b1084-edb5-4fb8-be40-54af358cdb26",
   "metadata": {},
   "source": [
    "### Croplands\n",
    "\n",
    "The croplands prefix contains field boundary maps for several African countries, stored as pmtiles (for a web-mapping application) and geoparquet (for analytics). We'll provide an example with geoparquet. "
   ]
  },
  {
   "cell_type": "markdown",
   "id": "07a06fb0",
   "metadata": {},
   "source": [
    "Read the GeoParquet data into a GeoDataFrame"
   ]
  },
  {
   "cell_type": "code",
   "execution_count": null,
   "id": "d15176b4-b6d1-436e-a5a5-53f25cabf0a1",
   "metadata": {},
   "outputs": [],
   "source": [
    "s3_url = f\"s3://mappingafrica/{objects[0]}\" # congo geoparquet\n",
    "\n",
    "gdf = gpd.read_parquet(s3_url)\n",
    "gdf = gdf.dropna(subset=['geometry'])\n",
    "gdf.head()"
   ]
  },
  {
   "cell_type": "markdown",
   "id": "d2a35f28",
   "metadata": {},
   "source": [
    "Display the cropland map of 2022 for Congo"
   ]
  },
  {
   "cell_type": "code",
   "execution_count": null,
   "id": "e84fb46c",
   "metadata": {},
   "outputs": [],
   "source": [
    "if gdf.crs is None:\n",
    "    gdf.set_crs(epsg=4326, inplace=True) \n",
    "bounds = gdf.total_bounds\n",
    "\n",
    "center_lat = (bounds[1] + bounds[3]) / 2\n",
    "center_lon = (bounds[0] + bounds[2]) / 2\n",
    "\n",
    "m = folium.Map(location=[center_lat, center_lon], zoom_start=6, \n",
    "               tiles='cartodbpositron')\n",
    "\n",
    "folium.GeoJson(gdf).add_to(m)\n",
    "\n",
    "m.save('interactive_map.html')\n",
    "m"
   ]
  }
 ],
 "metadata": {
  "kernelspec": {
   "display_name": "Python 3 (ipykernel)",
   "language": "python",
   "name": "python3"
  },
  "language_info": {
   "codemirror_mode": {
    "name": "ipython",
    "version": 3
   },
   "file_extension": ".py",
   "mimetype": "text/x-python",
   "name": "python",
   "nbconvert_exporter": "python",
   "pygments_lexer": "ipython3",
   "version": "3.12.3"
  },
  "toc-autonumbering": false,
  "toc-showmarkdowntxt": false
 },
 "nbformat": 4,
 "nbformat_minor": 5
}
